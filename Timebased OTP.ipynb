{
 "cells": [
  {
   "cell_type": "code",
   "execution_count": 2,
   "metadata": {},
   "outputs": [
    {
     "name": "stdout",
     "output_type": "stream",
     "text": [
      "DIS2D3FQMRTGT4J2YNZUS6XXSTG6TXAE\n"
     ]
    },
    {
     "data": {
      "image/png": "[encoded data removed]",
      "text/plain": [
       "<IPython.core.display.Image object>"
      ]
     },
     "execution_count": 2,
     "metadata": {},
     "output_type": "execute_result"
    }
   ],
   "source": [
    "\"\"\"pyotp library needed for generating and creating TOTP and QR\n",
    "png library for exporting QR code as png\n",
    "IPython.display for printing PNG from within notebook\n",
    "\"\"\"\n",
    "import pyotp\n",
    "import pyqrcode\n",
    "import png\n",
    "from IPython.display import Image\n",
    "\n",
    "#Helper function used to generate 16 character base32 secret \n",
    "#Compatible with Google Auth and other OTP applications\n",
    "base32_secret=pyotp.random_base32()\n",
    "print(base32_secret)\n",
    "\n",
    "\n",
    "#Similar to method above but secret is hex-encoded\n",
    "hex_based_secret=pyotp.random_hex()\n",
    "\n",
    "\n",
    "#credentials for creating TOTP\n",
    "username=\"tinlt@fsoft.com\"\n",
    "organization=\"fptsoftware\"\n",
    "\n",
    "\n",
    "#URI needed to generate QR code\n",
    "uri_link=pyotp.totp.TOTP(base32_secret).provisioning_uri(name=username, issuer_name=organization)\n",
    "\n",
    "\n",
    "#Generating QR code from URI\n",
    "url=pyqrcode.create(uri_link)\n",
    "url.png('test.png',scale=6)\n",
    "Image(filename='test.png')"
   ]
  },
  {
   "cell_type": "code",
   "execution_count": 4,
   "metadata": {},
   "outputs": [
    {
     "name": "stdout",
     "output_type": "stream",
     "text": [
      "Current OTP: 355138\n"
     ]
    }
   ],
   "source": [
    "#Refresh every 30 seconds to check with Google Auth App\n",
    "#The outputs match each other\n",
    "totp=pyotp.TOTP(base32_secret)\n",
    "print(\"Current OTP:\", totp.now())"
   ]
  },
  {
   "cell_type": "code",
   "execution_count": 5,
   "metadata": {},
   "outputs": [
    {
     "name": "stdin",
     "output_type": "stream",
     "text": [
      "Enter Google Auth input 536797\n"
     ]
    },
    {
     "name": "stdout",
     "output_type": "stream",
     "text": [
      "Correct OTP\n"
     ]
    }
   ],
   "source": [
    "#Using input to test whether the OTPs match\n",
    "test_otp=input(\"Enter Google Auth input\")\n",
    "if test_otp==totp.now():\n",
    "    print(\"Correct OTP\")"
   ]
  },
  {
   "cell_type": "code",
   "execution_count": null,
   "metadata": {},
   "outputs": [],
   "source": []
  }
 ],
 "metadata": {
  "kernelspec": {
   "display_name": "Python 3",
   "language": "python",
   "name": "python3"
  },
  "language_info": {
   "codemirror_mode": {
    "name": "ipython",
    "version": 3
   },
   "file_extension": ".py",
   "mimetype": "text/x-python",
   "name": "python",
   "nbconvert_exporter": "python",
   "pygments_lexer": "ipython3",
   "version": "3.8.5"
  }
 },
 "nbformat": 4,
 "nbformat_minor": 4
}
